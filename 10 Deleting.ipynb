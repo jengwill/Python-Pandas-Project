{
 "cells": [
  {
   "cell_type": "code",
   "execution_count": 2,
   "id": "6e684ef5",
   "metadata": {},
   "outputs": [],
   "source": [
    "#step 1\n",
    "\n",
    "import pandas as pd\n",
    "import numpy as np"
   ]
  },
  {
   "cell_type": "code",
   "execution_count": 3,
   "id": "731ae813",
   "metadata": {},
   "outputs": [
    {
     "data": {
      "text/html": [
       "<div>\n",
       "<style scoped>\n",
       "    .dataframe tbody tr th:only-of-type {\n",
       "        vertical-align: middle;\n",
       "    }\n",
       "\n",
       "    .dataframe tbody tr th {\n",
       "        vertical-align: top;\n",
       "    }\n",
       "\n",
       "    .dataframe thead th {\n",
       "        text-align: right;\n",
       "    }\n",
       "</style>\n",
       "<table border=\"1\" class=\"dataframe\">\n",
       "  <thead>\n",
       "    <tr style=\"text-align: right;\">\n",
       "      <th></th>\n",
       "      <th>5.1</th>\n",
       "      <th>3.5</th>\n",
       "      <th>1.4</th>\n",
       "      <th>0.2</th>\n",
       "      <th>Iris-setosa</th>\n",
       "    </tr>\n",
       "  </thead>\n",
       "  <tbody>\n",
       "    <tr>\n",
       "      <th>0</th>\n",
       "      <td>4.9</td>\n",
       "      <td>3.0</td>\n",
       "      <td>1.4</td>\n",
       "      <td>0.2</td>\n",
       "      <td>Iris-setosa</td>\n",
       "    </tr>\n",
       "    <tr>\n",
       "      <th>1</th>\n",
       "      <td>4.7</td>\n",
       "      <td>3.2</td>\n",
       "      <td>1.3</td>\n",
       "      <td>0.2</td>\n",
       "      <td>Iris-setosa</td>\n",
       "    </tr>\n",
       "    <tr>\n",
       "      <th>2</th>\n",
       "      <td>4.6</td>\n",
       "      <td>3.1</td>\n",
       "      <td>1.5</td>\n",
       "      <td>0.2</td>\n",
       "      <td>Iris-setosa</td>\n",
       "    </tr>\n",
       "    <tr>\n",
       "      <th>3</th>\n",
       "      <td>5.0</td>\n",
       "      <td>3.6</td>\n",
       "      <td>1.4</td>\n",
       "      <td>0.2</td>\n",
       "      <td>Iris-setosa</td>\n",
       "    </tr>\n",
       "    <tr>\n",
       "      <th>4</th>\n",
       "      <td>5.4</td>\n",
       "      <td>3.9</td>\n",
       "      <td>1.7</td>\n",
       "      <td>0.4</td>\n",
       "      <td>Iris-setosa</td>\n",
       "    </tr>\n",
       "  </tbody>\n",
       "</table>\n",
       "</div>"
      ],
      "text/plain": [
       "   5.1  3.5  1.4  0.2  Iris-setosa\n",
       "0  4.9  3.0  1.4  0.2  Iris-setosa\n",
       "1  4.7  3.2  1.3  0.2  Iris-setosa\n",
       "2  4.6  3.1  1.5  0.2  Iris-setosa\n",
       "3  5.0  3.6  1.4  0.2  Iris-setosa\n",
       "4  5.4  3.9  1.7  0.4  Iris-setosa"
      ]
     },
     "execution_count": 3,
     "metadata": {},
     "output_type": "execute_result"
    }
   ],
   "source": [
    "#step 3\n",
    "\n",
    "url = 'https://archive.ics.uci.edu/ml/machine-learning-databases/iris/iris.data'\n",
    "iris = pd.read_csv(url)\n",
    "\n",
    "iris.head()"
   ]
  },
  {
   "cell_type": "code",
   "execution_count": 4,
   "id": "921757e0",
   "metadata": {},
   "outputs": [
    {
     "name": "stdout",
     "output_type": "stream",
     "text": [
      "   Sepal Length  Sepal Width  Petal Length  Petal Width        Class\n",
      "0           4.9          3.0           1.4          0.2  Iris-setosa\n",
      "1           4.7          3.2           1.3          0.2  Iris-setosa\n",
      "2           4.6          3.1           1.5          0.2  Iris-setosa\n",
      "3           5.0          3.6           1.4          0.2  Iris-setosa\n",
      "4           5.4          3.9           1.7          0.4  Iris-setosa\n"
     ]
    }
   ],
   "source": [
    "#step 4\n",
    "\n",
    "iris.columns = ['Sepal Length', 'Sepal Width', 'Petal Length', 'Petal Width', 'Class']\n",
    "\n",
    "print(iris.head())"
   ]
  },
  {
   "cell_type": "code",
   "execution_count": 5,
   "id": "46335834",
   "metadata": {},
   "outputs": [
    {
     "name": "stdout",
     "output_type": "stream",
     "text": [
      "Sepal Length    0\n",
      "Sepal Width     0\n",
      "Petal Length    0\n",
      "Petal Width     0\n",
      "Class           0\n",
      "dtype: int64\n"
     ]
    }
   ],
   "source": [
    "#step 5\n",
    "\n",
    "missing_values = iris.isna().sum()\n",
    "\n",
    "print(missing_values)"
   ]
  },
  {
   "cell_type": "code",
   "execution_count": 6,
   "id": "74e2812b",
   "metadata": {},
   "outputs": [
    {
     "name": "stdout",
     "output_type": "stream",
     "text": [
      "    Sepal Length  Sepal Width  Petal Length  Petal Width        Class\n",
      "0            4.9          3.0           1.4          0.2  Iris-setosa\n",
      "1            4.7          3.2           1.3          0.2  Iris-setosa\n",
      "2            4.6          3.1           1.5          0.2  Iris-setosa\n",
      "3            5.0          3.6           1.4          0.2  Iris-setosa\n",
      "4            5.4          3.9           1.7          0.4  Iris-setosa\n",
      "5            4.6          3.4           1.4          0.3  Iris-setosa\n",
      "6            5.0          3.4           1.5          0.2  Iris-setosa\n",
      "7            4.4          2.9           1.4          0.2  Iris-setosa\n",
      "8            4.9          3.1           1.5          0.1  Iris-setosa\n",
      "9            5.4          3.7           1.5          0.2  Iris-setosa\n",
      "10           4.8          3.4           NaN          0.2  Iris-setosa\n",
      "11           4.8          3.0           NaN          0.1  Iris-setosa\n",
      "12           4.3          3.0           NaN          0.1  Iris-setosa\n",
      "13           5.8          4.0           NaN          0.2  Iris-setosa\n",
      "14           5.7          4.4           NaN          0.4  Iris-setosa\n",
      "15           5.4          3.9           NaN          0.4  Iris-setosa\n",
      "16           5.1          3.5           NaN          0.3  Iris-setosa\n",
      "17           5.7          3.8           NaN          0.3  Iris-setosa\n",
      "18           5.1          3.8           NaN          0.3  Iris-setosa\n",
      "19           5.4          3.4           NaN          0.2  Iris-setosa\n"
     ]
    }
   ],
   "source": [
    "#step 6\n",
    "\n",
    "iris.loc[10:29, 'Petal Length'] = np.nan\n",
    "\n",
    "print(iris.head(20))"
   ]
  },
  {
   "cell_type": "code",
   "execution_count": 7,
   "id": "9664bb4b",
   "metadata": {},
   "outputs": [
    {
     "name": "stdout",
     "output_type": "stream",
     "text": [
      "     Sepal Length  Sepal Width  Petal Length  Petal Width           Class\n",
      "0             4.9          3.0           1.4          0.2     Iris-setosa\n",
      "1             4.7          3.2           1.3          0.2     Iris-setosa\n",
      "2             4.6          3.1           1.5          0.2     Iris-setosa\n",
      "3             5.0          3.6           1.4          0.2     Iris-setosa\n",
      "4             5.4          3.9           1.7          0.4     Iris-setosa\n",
      "..            ...          ...           ...          ...             ...\n",
      "144           6.7          3.0           5.2          2.3  Iris-virginica\n",
      "145           6.3          2.5           5.0          1.9  Iris-virginica\n",
      "146           6.5          3.0           5.2          2.0  Iris-virginica\n",
      "147           6.2          3.4           5.4          2.3  Iris-virginica\n",
      "148           5.9          3.0           5.1          1.8  Iris-virginica\n",
      "\n",
      "[149 rows x 5 columns]\n"
     ]
    }
   ],
   "source": [
    "#step 7\n",
    "\n",
    "filled_iris = iris.copy()\n",
    "filled_iris['Petal Length'].fillna(1, inplace=True)\n",
    "\n",
    "print(filled_iris)"
   ]
  },
  {
   "cell_type": "code",
   "execution_count": 8,
   "id": "b0916614",
   "metadata": {},
   "outputs": [
    {
     "name": "stdout",
     "output_type": "stream",
     "text": [
      "   Sepal Length  Sepal Width  Petal Length  Petal Width\n",
      "0           4.9          3.0           1.4          0.2\n",
      "1           4.7          3.2           1.3          0.2\n",
      "2           4.6          3.1           1.5          0.2\n",
      "3           5.0          3.6           1.4          0.2\n",
      "4           5.4          3.9           1.7          0.4\n"
     ]
    }
   ],
   "source": [
    "#step 8\n",
    "\n",
    "iris_without_class = iris.drop(columns=['Class'])\n",
    "\n",
    "print(iris_without_class.head())"
   ]
  },
  {
   "cell_type": "code",
   "execution_count": 9,
   "id": "fdf80df3",
   "metadata": {},
   "outputs": [
    {
     "name": "stdout",
     "output_type": "stream",
     "text": [
      "   Sepal Length  Sepal Width  Petal Length  Petal Width        Class\n",
      "0           NaN          NaN           NaN          NaN          NaN\n",
      "1           NaN          NaN           NaN          NaN          NaN\n",
      "2           NaN          NaN           NaN          NaN          NaN\n",
      "3           5.0          3.6           1.4          0.2  Iris-setosa\n",
      "4           5.4          3.9           1.7          0.4  Iris-setosa\n"
     ]
    }
   ],
   "source": [
    "#step 9\n",
    "\n",
    "iris.iloc[:3, :] = np.nan\n",
    "\n",
    "print(iris.head())"
   ]
  },
  {
   "cell_type": "code",
   "execution_count": 10,
   "id": "390c2b23",
   "metadata": {},
   "outputs": [
    {
     "name": "stdout",
     "output_type": "stream",
     "text": [
      "   Sepal Length  Sepal Width  Petal Length  Petal Width        Class\n",
      "3           5.0          3.6           1.4          0.2  Iris-setosa\n",
      "4           5.4          3.9           1.7          0.4  Iris-setosa\n",
      "5           4.6          3.4           1.4          0.3  Iris-setosa\n",
      "6           5.0          3.4           1.5          0.2  Iris-setosa\n",
      "7           4.4          2.9           1.4          0.2  Iris-setosa\n"
     ]
    }
   ],
   "source": [
    "#step 10\n",
    "\n",
    "iris_filtered = iris.dropna()\n",
    "\n",
    "print(iris_filtered.head())"
   ]
  },
  {
   "cell_type": "code",
   "execution_count": 12,
   "id": "701c8e72",
   "metadata": {},
   "outputs": [
    {
     "name": "stdout",
     "output_type": "stream",
     "text": [
      "   Sepal Length  Sepal Width  Petal Length  Petal Width        Class\n",
      "0           NaN          NaN           NaN          NaN          NaN\n",
      "1           NaN          NaN           NaN          NaN          NaN\n",
      "2           NaN          NaN           NaN          NaN          NaN\n",
      "3           5.0          3.6           1.4          0.2  Iris-setosa\n",
      "4           5.4          3.9           1.7          0.4  Iris-setosa\n"
     ]
    }
   ],
   "source": [
    "#step 11\n",
    "\n",
    "iris = iris.reset_index(drop = True)\n",
    "\n",
    "print(iris.head())"
   ]
  },
  {
   "cell_type": "code",
   "execution_count": 15,
   "id": "3e9506e8",
   "metadata": {},
   "outputs": [
    {
     "name": "stdout",
     "output_type": "stream",
     "text": [
      "Class\n",
      "Iris-setosa        5.021739\n",
      "Iris-versicolor    5.936000\n",
      "Iris-virginica     6.588000\n",
      "Name: Sepal Length, dtype: float64\n"
     ]
    }
   ],
   "source": [
    "#step 12\n",
    "\n",
    "#What is the average Sepal Length for each class?\n",
    "\n",
    "average_sepal_length = iris.groupby('Class')['Sepal Length'].mean()\n",
    "\n",
    "print(average_sepal_length)"
   ]
  }
 ],
 "metadata": {
  "kernelspec": {
   "display_name": "Python 3 (ipykernel)",
   "language": "python",
   "name": "python3"
  },
  "language_info": {
   "codemirror_mode": {
    "name": "ipython",
    "version": 3
   },
   "file_extension": ".py",
   "mimetype": "text/x-python",
   "name": "python",
   "nbconvert_exporter": "python",
   "pygments_lexer": "ipython3",
   "version": "3.10.9"
  }
 },
 "nbformat": 4,
 "nbformat_minor": 5
}
